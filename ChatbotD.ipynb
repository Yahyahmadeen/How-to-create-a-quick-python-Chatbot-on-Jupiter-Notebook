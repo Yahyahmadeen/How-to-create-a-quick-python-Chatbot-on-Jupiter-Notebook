{
 "cells": [
  {
   "cell_type": "code",
   "execution_count": 1,
   "id": "d0a0da82-712c-44e5-95f6-72e4473947b6",
   "metadata": {},
   "outputs": [],
   "source": [
    "import nltk\n",
    "import pandas as pd\n",
    "import random"
   ]
  },
  {
   "cell_type": "markdown",
   "id": "6c41d46f-910b-4f57-a401-ba893fe8a3ef",
   "metadata": {},
   "source": [
    "# Load the cleaned restaurant menu dataset"
   ]
  },
  {
   "cell_type": "code",
   "execution_count": 3,
   "id": "f91b3284-9fb9-4e13-9f34-4d85977c46f6",
   "metadata": {},
   "outputs": [],
   "source": [
    "df = pd.read_csv(\"cleaned_menu.csv\")"
   ]
  },
  {
   "cell_type": "markdown",
   "id": "558843a1-5263-4499-8a5c-a16872202534",
   "metadata": {},
   "source": [
    "# Ensure NLTK has required resources"
   ]
  },
  {
   "cell_type": "code",
   "execution_count": 5,
   "id": "2ebc38a8-c68c-4a80-acdc-5a60094f4778",
   "metadata": {},
   "outputs": [
    {
     "name": "stderr",
     "output_type": "stream",
     "text": [
      "[nltk_data] Downloading package punkt to\n",
      "[nltk_data]     C:\\Users\\LENOVO\\AppData\\Roaming\\nltk_data...\n",
      "[nltk_data]   Package punkt is already up-to-date!\n"
     ]
    },
    {
     "data": {
      "text/plain": [
       "True"
      ]
     },
     "execution_count": 5,
     "metadata": {},
     "output_type": "execute_result"
    }
   ],
   "source": [
    "nltk.download(\"punkt\")"
   ]
  },
  {
   "cell_type": "markdown",
   "id": "57c88ad3-edb6-4019-8061-6c6cba0d3442",
   "metadata": {},
   "source": [
    "# Function to process user input and return responses"
   ]
  },
  {
   "cell_type": "code",
   "execution_count": 7,
   "id": "b105562d-0496-43aa-bd19-81b5d2873fd8",
   "metadata": {},
   "outputs": [],
   "source": [
    "def chatbot():\n",
    "    print(\"🍽️ Welcome to the Restaurant Chatbot! Type 'exit' to stop.\")\n"
   ]
  },
  {
   "cell_type": "markdown",
   "id": "a92cf1b8-bc6b-45bf-84e7-fb072465062d",
   "metadata": {},
   "source": [
    "# Create a Loop to Keep the Chatbot Running"
   ]
  },
  {
   "cell_type": "code",
   "execution_count": null,
   "id": "e7553011-6357-48ac-81b6-f21343204767",
   "metadata": {},
   "outputs": [
    {
     "name": "stdout",
     "output_type": "stream",
     "text": [
      "🍽️ Welcome to the Restaurant Chatbot! Type 'exit' to stop.\n"
     ]
    }
   ],
   "source": [
    "import time\n",
    "\n",
    "\n",
    "\n",
    "def restaurant_chatbot():\n",
    "    print(\"🍽️ Welcome to the Restaurant Chatbot! Type 'exit' to stop.\")\n",
    "\n",
    "    while True:\n",
    "        user_input = input(\"\\nYou: \").lower()  # Convert input to lowercase\n",
    "        \n",
    "        # Exit Condition\n",
    "        if user_input in [\"exit\", \"quit\", \"bye\"]:\n",
    "            print(\"🤖 Chatbot: Thank you! Have a great day! 😊\")\n",
    "            break\n",
    "        \n",
    "        # Respond to Greetings with Suggestions\n",
    "        elif \"good morning\" in user_input:\n",
    "            print(\"🤖 Chatbot: Good morning! 🌞 How about starting your day with a fresh cup of coffee or a delicious pancake? ☕🥞\")\n",
    "        \n",
    "        elif \"good afternoon\" in user_input:\n",
    "            print(\"🤖 Chatbot: Good afternoon! 🍔 It's the perfect time for a juicy burger and fries. Would you like to order? 😊\")\n",
    "        \n",
    "        elif \"good evening\" in user_input:\n",
    "            print(\"🤖 Chatbot: Good evening! 🍕 How about a warm pizza or some pasta for dinner? What would you like? 😊\")\n",
    "\n",
    "        # Respond to Menu Queries\n",
    "        elif \"menu\" in user_input:\n",
    "            print(\"🤖 Chatbot: Here is our menu:\")\n",
    "            print(\"🍕 Pizza = $5\")\n",
    "            print(\"🍔 Burgers = $8\")\n",
    "            print(\"🍝 Pasta = $7\")\n",
    "            print(\"🥗 Salads = $6\")\n",
    "            print(\"🥤 Drinks = $3\")\n",
    "            print(\"🍰 Desserts = $4\")\n",
    "            print(\"\\nWould you like to order anything? 😊\")\n",
    "\n",
    "        # Respond to Specific Items\n",
    "        elif \"drinks\" in user_input:\n",
    "            print(\"🤖 Chatbot: We have soda, juice, and water. Each costs $3.\")\n",
    "\n",
    "        elif \"dessert\" in user_input:\n",
    "            print(\"🤖 Chatbot: We offer chocolate cake, ice cream, and cheesecake. Each costs $4.\")\n",
    "\n",
    "        # Default Response\n",
    "        else:\n",
    "            print(\"🤖 Chatbot: I'm still learning! Can you ask me about the menu? 😊\")\n",
    "\n",
    "# Run the chatbot\n",
    "restaurant_chatbot()\n"
   ]
  },
  {
   "cell_type": "markdown",
   "id": "305cad2f-1bd0-4de5-a806-d3935b3c4923",
   "metadata": {},
   "source": [
    "# Tokenize the User Input"
   ]
  },
  {
   "cell_type": "code",
   "execution_count": null,
   "id": "0d29a8b5-d8ed-49ee-ba3e-22cc07e09297",
   "metadata": {},
   "outputs": [
    {
     "name": "stderr",
     "output_type": "stream",
     "text": [
      "[nltk_data] Downloading package punkt to\n",
      "[nltk_data]     C:\\Users\\LENOVO\\AppData\\Roaming\\nltk_data...\n",
      "[nltk_data]   Package punkt is already up-to-date!\n"
     ]
    }
   ],
   "source": [
    "import nltk\n",
    "from nltk.tokenize import word_tokenize\n",
    "\n",
    "# Ensure tokenizer data is available\n",
    "nltk.download('punkt')\n",
    "\n",
    "# Ask for user input\n",
    "user_input = input(\"You: \")\n",
    "\n",
    "# Tokenize user input\n",
    "tokens = word_tokenize(user_input)\n",
    "\n",
    "# Show tokenized words\n",
    "print(\"🤖 Tokenized Words:\", tokens)\n"
   ]
  },
  {
   "cell_type": "markdown",
   "id": "c22f27bf-9b5e-4725-90d0-171bd912ae87",
   "metadata": {},
   "source": [
    "# Check for Menu Categories in Input"
   ]
  },
  {
   "cell_type": "code",
   "execution_count": null,
   "id": "bd4a68a2-c6d2-4b0b-b9dc-9a41d0e7383f",
   "metadata": {},
   "outputs": [],
   "source": [
    "category_found = False  # Track if a category is detected\n",
    "\n",
    "for category in df[\"category\"].unique():  # Loop through unique categories in the dataset\n",
    "    if category.lower() in tokens:  # Check if the category exists in user input tokens\n",
    "        category_found = True  # Mark that we found a category\n"
   ]
  },
  {
   "cell_type": "markdown",
   "id": "c42950bb-a380-4347-890c-2816401a9ecd",
   "metadata": {},
   "source": [
    "# Suggest Menu Items from That Category"
   ]
  },
  {
   "cell_type": "code",
   "execution_count": null,
   "id": "251b5067-fa6d-44ca-9a89-47a0c5f723ed",
   "metadata": {},
   "outputs": [],
   "source": [
    "items = df[df[\"category\"].str.lower() == category.lower()]  # Get items\n",
    "response = f\"Here are some {category} items:\\n\"\n",
    "response += \"\\n\".join(f\"- {row['item']} (${row['price']})\" for _, row in items.sample(min(5, len(items))).iterrows())\n",
    "\n",
    "print(f\"\\n🤖 Chatbot: {response}\")\n",
    "'break'  # Stop checking more categories\n"
   ]
  },
  {
   "cell_type": "markdown",
   "id": "43eafbc0-436d-41d6-926c-4e3c4f253ecc",
   "metadata": {},
   "source": [
    "# Suggest a Random Dish if No Category is Found"
   ]
  },
  {
   "cell_type": "code",
   "execution_count": null,
   "id": "d59b6d92-7e87-4661-b105-a212e7715fbc",
   "metadata": {},
   "outputs": [],
   "source": [
    "if not category_found:\n",
    "    random_item = df.sample(1).iloc[0]  # Pick one random item\n",
    "    print(f\"\\n🤖 Chatbot: How about trying {random_item['item']} for ${random_item['price']}?\")\n"
   ]
  },
  {
   "cell_type": "markdown",
   "id": "4c6ea290-54cf-4c38-8007-ec12e5100cdd",
   "metadata": {},
   "source": [
    "# Run the Chatbot"
   ]
  },
  {
   "cell_type": "markdown",
   "id": "c8c930a6-32a9-4eaa-a793-3881b72c664a",
   "metadata": {},
   "source": [
    "chatbot()\n"
   ]
  }
 ],
 "metadata": {
  "kernelspec": {
   "display_name": "Python 3 (ipykernel)",
   "language": "python",
   "name": "python3"
  },
  "language_info": {
   "codemirror_mode": {
    "name": "ipython",
    "version": 3
   },
   "file_extension": ".py",
   "mimetype": "text/x-python",
   "name": "python",
   "nbconvert_exporter": "python",
   "pygments_lexer": "ipython3",
   "version": "3.12.7"
  }
 },
 "nbformat": 4,
 "nbformat_minor": 5
}
